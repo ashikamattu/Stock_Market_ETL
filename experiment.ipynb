{
 "cells": [
  {
   "cell_type": "code",
   "execution_count": 1,
   "id": "8e6786a8",
   "metadata": {},
   "outputs": [],
   "source": [
    "import pandas as pd"
   ]
  },
  {
   "cell_type": "code",
   "execution_count": 2,
   "id": "c9c2ac1f",
   "metadata": {},
   "outputs": [
    {
     "data": {
      "text/html": [
       "<div>\n",
       "<style scoped>\n",
       "    .dataframe tbody tr th:only-of-type {\n",
       "        vertical-align: middle;\n",
       "    }\n",
       "\n",
       "    .dataframe tbody tr th {\n",
       "        vertical-align: top;\n",
       "    }\n",
       "\n",
       "    .dataframe thead th {\n",
       "        text-align: right;\n",
       "    }\n",
       "</style>\n",
       "<table border=\"1\" class=\"dataframe\">\n",
       "  <thead>\n",
       "    <tr style=\"text-align: right;\">\n",
       "      <th></th>\n",
       "      <th>Symbol</th>\n",
       "    </tr>\n",
       "  </thead>\n",
       "  <tbody>\n",
       "    <tr>\n",
       "      <th>0</th>\n",
       "      <td>AAPL</td>\n",
       "    </tr>\n",
       "    <tr>\n",
       "      <th>1</th>\n",
       "      <td>NVDA</td>\n",
       "    </tr>\n",
       "    <tr>\n",
       "      <th>2</th>\n",
       "      <td>MSFT</td>\n",
       "    </tr>\n",
       "    <tr>\n",
       "      <th>3</th>\n",
       "      <td>AMZN</td>\n",
       "    </tr>\n",
       "    <tr>\n",
       "      <th>4</th>\n",
       "      <td>META</td>\n",
       "    </tr>\n",
       "  </tbody>\n",
       "</table>\n",
       "</div>"
      ],
      "text/plain": [
       "  Symbol\n",
       "0   AAPL\n",
       "1   NVDA\n",
       "2   MSFT\n",
       "3   AMZN\n",
       "4   META"
      ]
     },
     "execution_count": 2,
     "metadata": {},
     "output_type": "execute_result"
    }
   ],
   "source": [
    "#tickers = pd.read_csv('./tickers.csv', header = None)\n",
    "tickers_df = pd.read_csv('./tickers.csv', dtype={'Symbol': str})\n",
    "tickers_df['Symbol'] = tickers_df['Symbol'].str.strip()\n",
    "tickers_df.head()"
   ]
  },
  {
   "cell_type": "code",
   "execution_count": 66,
   "id": "8e35f5ad",
   "metadata": {},
   "outputs": [],
   "source": [
    "import requests\n",
    "import csv\n",
    "import pandas as pd\n",
    "\n",
    "tickers_df = pd.read_csv('./tickers.csv', dtype={'Symbol': str})\n",
    "tickers_df['Symbol'] = tickers_df['Symbol'].str.strip()\n",
    "\n",
    "url = 'https://yahoo-finance166.p.rapidapi.com/api/stock/get-financial-data'\n",
    "\n",
    "headers = {\n",
    "\t\"x-rapidapi-key\": \"6fe0cabaefmsh7ef3e2799f96313p13bba4jsn8315bbcfaddb\",\n",
    "\t\"x-rapidapi-host\": \"yahoo-finance166.p.rapidapi.com\"\n",
    "}\n",
    "i = 0\n",
    "\n",
    "field_names = ['ticker','currentPrice','totalRevenue','ebitda','freeCashflow','profitMargins','revenueGrowth','debtToEquity','totalDebt','numberOfAnalystOpinions','recommendationKey','timeStamp']\n",
    "stocks_info_df = pd.DataFrame(columns = field_names)\n",
    "\n",
    "for ticker in tickers_df['Symbol']:\n",
    "    # For dev purpose only\n",
    "    if (i == 3):\n",
    "        break\n",
    "    querystring = {\"region\":\"US\",\"symbol\":ticker}\n",
    "    response = requests.get(url, headers=headers, params=querystring)\n",
    "    # print(ticker,response.status_code)\n",
    "    if response.status_code == 200:\n",
    "        data = response.json().get('quoteSummary', []).get('result',[])#.get('0',[]).get('financialData',[])\n",
    "        stock_info_dict = {}\n",
    "        stock_info_dict['ticker'] = ticker\n",
    "        # stock_info_dict['timestamp'] = timestamp \n",
    "        for entry in data[0]['financialData']:\n",
    "            if ((entry in stocks_info_df.columns) and entry != 'recommendationKey'):\n",
    "                stock_info_dict[entry] = data[0]['financialData'][entry]['raw']\n",
    "            if ((entry in stocks_info_df.columns) and entry == 'recommendationKey'):\n",
    "                stock_info_dict[entry] = data[0]['financialData'][entry]\n",
    "        stocks_info_df = pd.concat([stocks_info_df,pd.DataFrame([stock_info_dict])], ignore_index = True)\n",
    "    i += 1"
   ]
  },
  {
   "cell_type": "code",
   "execution_count": 69,
   "id": "c7e857cf",
   "metadata": {},
   "outputs": [],
   "source": [
    "for ticker in tickers_df['Symbol']:\n",
    "    if (i == 3):\n",
    "        break\n",
    "    querystring = {\"region\":\"US\",\"symbol\":ticker}\n",
    "    response = requests.get(url, headers=headers, params=querystring)\n",
    "    # print(ticker,response.status_code)\n",
    "    if response.status_code == 200:\n",
    "        data = response.json().get('quoteSummary', []).get('result',[])#.get('0',[]).get('financialData',[])\n",
    "        stock_info_dict = {}\n",
    "        stock_info_dict['ticker'] = ticker\n",
    "        # stock_info_dict['timestamp'] = timestamp \n",
    "        for entry in data[0]['financialData']:\n",
    "            if ((entry in stocks_info_df.columns) and entry != 'recommendationKey'):\n",
    "                stock_info_dict[entry] = data[0]['financialData'][entry]['raw']\n",
    "            if ((entry in stocks_info_df.columns) and entry == 'recommendationKey'):\n",
    "                stock_info_dict[entry] = data[0]['financialData'][entry]\n",
    "        stocks_info_df = pd.concat([stocks_info_df,pd.DataFrame([stock_info_dict])], ignore_index = True)\n",
    "    i += 1"
   ]
  },
  {
   "cell_type": "code",
   "execution_count": 70,
   "id": "7f17e8d4",
   "metadata": {},
   "outputs": [
    {
     "data": {
      "text/html": [
       "<div>\n",
       "<style scoped>\n",
       "    .dataframe tbody tr th:only-of-type {\n",
       "        vertical-align: middle;\n",
       "    }\n",
       "\n",
       "    .dataframe tbody tr th {\n",
       "        vertical-align: top;\n",
       "    }\n",
       "\n",
       "    .dataframe thead th {\n",
       "        text-align: right;\n",
       "    }\n",
       "</style>\n",
       "<table border=\"1\" class=\"dataframe\">\n",
       "  <thead>\n",
       "    <tr style=\"text-align: right;\">\n",
       "      <th></th>\n",
       "      <th>ticker</th>\n",
       "      <th>currentPrice</th>\n",
       "      <th>totalRevenue</th>\n",
       "      <th>ebitda</th>\n",
       "      <th>freeCashflow</th>\n",
       "      <th>profitMargins</th>\n",
       "      <th>revenueGrowth</th>\n",
       "      <th>debtToEquity</th>\n",
       "      <th>totalDebt</th>\n",
       "      <th>numberOfAnalystOpinions</th>\n",
       "      <th>recommendationKey</th>\n",
       "    </tr>\n",
       "  </thead>\n",
       "  <tbody>\n",
       "    <tr>\n",
       "      <th>0</th>\n",
       "      <td>AAPL</td>\n",
       "      <td>255.27</td>\n",
       "      <td>391034994688</td>\n",
       "      <td>134660997120</td>\n",
       "      <td>110846001152</td>\n",
       "      <td>0.23971</td>\n",
       "      <td>0.061</td>\n",
       "      <td>209.059</td>\n",
       "      <td>119058997248</td>\n",
       "      <td>42</td>\n",
       "      <td>buy</td>\n",
       "    </tr>\n",
       "    <tr>\n",
       "      <th>1</th>\n",
       "      <td>NVDA</td>\n",
       "      <td>139.67</td>\n",
       "      <td>96307003392</td>\n",
       "      <td>61184000000</td>\n",
       "      <td>33725874176</td>\n",
       "      <td>0.55041</td>\n",
       "      <td>1.224</td>\n",
       "      <td>17.221</td>\n",
       "      <td>10014999552</td>\n",
       "      <td>54</td>\n",
       "      <td>strong_buy</td>\n",
       "    </tr>\n",
       "    <tr>\n",
       "      <th>2</th>\n",
       "      <td>MSFT</td>\n",
       "      <td>435.25</td>\n",
       "      <td>254189993984</td>\n",
       "      <td>136551997440</td>\n",
       "      <td>61280874496</td>\n",
       "      <td>0.35608</td>\n",
       "      <td>0.160</td>\n",
       "      <td>33.657</td>\n",
       "      <td>96838000640</td>\n",
       "      <td>48</td>\n",
       "      <td>strong_buy</td>\n",
       "    </tr>\n",
       "  </tbody>\n",
       "</table>\n",
       "</div>"
      ],
      "text/plain": [
       "  ticker  currentPrice  totalRevenue        ebitda  freeCashflow  \\\n",
       "0   AAPL        255.27  391034994688  134660997120  110846001152   \n",
       "1   NVDA        139.67   96307003392   61184000000   33725874176   \n",
       "2   MSFT        435.25  254189993984  136551997440   61280874496   \n",
       "\n",
       "   profitMargins  revenueGrowth  debtToEquity     totalDebt  \\\n",
       "0        0.23971          0.061       209.059  119058997248   \n",
       "1        0.55041          1.224        17.221   10014999552   \n",
       "2        0.35608          0.160        33.657   96838000640   \n",
       "\n",
       "  numberOfAnalystOpinions recommendationKey  \n",
       "0                      42               buy  \n",
       "1                      54        strong_buy  \n",
       "2                      48        strong_buy  "
      ]
     },
     "execution_count": 70,
     "metadata": {},
     "output_type": "execute_result"
    }
   ],
   "source": [
    "stocks_info_df"
   ]
  },
  {
   "cell_type": "code",
   "execution_count": 19,
   "id": "772bdd2f",
   "metadata": {},
   "outputs": [
    {
     "data": {
      "text/plain": [
       "{'raw': 254.49, 'fmt': '254.49'}"
      ]
     },
     "execution_count": 19,
     "metadata": {},
     "output_type": "execute_result"
    }
   ],
   "source": [
    "data[0]['financialData']['currentPrice']"
   ]
  },
  {
   "cell_type": "code",
   "execution_count": 4,
   "id": "26dd06db",
   "metadata": {},
   "outputs": [
    {
     "name": "stdout",
     "output_type": "stream",
     "text": [
      "254.49\n"
     ]
    }
   ],
   "source": [
    "print(data[0]['financialData']['currentPrice']['raw'])"
   ]
  },
  {
   "cell_type": "code",
   "execution_count": 5,
   "id": "9460ede6",
   "metadata": {},
   "outputs": [
    {
     "name": "stdout",
     "output_type": "stream",
     "text": [
      "2\n"
     ]
    }
   ],
   "source": [
    "d = (data[0]['financialData'])\n",
    "field_names = ['currentPrice','totalRevenue','ebitda','freeCashflow','profitMargins','revenueGrowth','debtToEquity(%)','totalDebt','numberOfAnalystOpinions','recommendationKey']\n",
    "print(len(list(d['currentPrice'].keys())))"
   ]
  },
  {
   "cell_type": "code",
   "execution_count": null,
   "id": "6ee1ac55",
   "metadata": {},
   "outputs": [],
   "source": [
    "if response.status_code == 200:\n",
    "    data = response.json().get('quoteSummary', []).get('result',[])  # Extracting the 'rank' data\n",
    "    csv_filename = 'daily_stock_data.csv'\n",
    "\n",
    "    if data:\n",
    "        field_names = ['rank', 'name', 'country']  # Specify required field names\n",
    "\n",
    "        # Write data to CSV file with only specified field names\n",
    "        # with open(csv_filename, 'w', newline='', encoding='utf-8') as csvfile:\n",
    "            # writer = csv.DictWriter(csvfile, fieldnames=field_names)\n",
    "            # writer.writeheader()\n",
    "        for entry in data:\n",
    "            #writer.writerow({field: entry.get(field) for field in field_names})\n",
    "            print(entry)\n",
    "\n",
    "        print(f\"Data fetched successfully and written to '{csv_filename}'\")\n",
    "\n",
    "        '''# Upload the CSV file to GCS\n",
    "        bucket_name = 'bkt-ranking-data'\n",
    "        #storage_client = storage.Client()\n",
    "        #bucket = storage_client.bucket(bucket_name)\n",
    "        destination_blob_name = f'{csv_filename}'  # The path to store in GCS\n",
    "\n",
    "        blob = bucket.blob(destination_blob_name)\n",
    "        blob.upload_from_filename(csv_filename)\n",
    "\n",
    "        print(f\"File {csv_filename} uploaded to GCS bucket {bucket_name} as {destination_blob_name}\")'''\n",
    "    else:\n",
    "        print(\"No data available from the API.\")\n",
    "else:\n",
    "    print(\"Failed to fetch data:\", response.status_code)"
   ]
  }
 ],
 "metadata": {
  "kernelspec": {
   "display_name": "Python 3 (ipykernel)",
   "language": "python",
   "name": "python3"
  },
  "language_info": {
   "codemirror_mode": {
    "name": "ipython",
    "version": 3
   },
   "file_extension": ".py",
   "mimetype": "text/x-python",
   "name": "python",
   "nbconvert_exporter": "python",
   "pygments_lexer": "ipython3",
   "version": "3.9.7"
  }
 },
 "nbformat": 4,
 "nbformat_minor": 5
}
