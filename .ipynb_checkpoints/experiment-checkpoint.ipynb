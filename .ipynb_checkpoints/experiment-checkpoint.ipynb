{
 "cells": [
  {
   "cell_type": "code",
   "execution_count": 1,
   "id": "0bb87436",
   "metadata": {},
   "outputs": [],
   "source": [
    "import pandas as pd"
   ]
  },
  {
   "cell_type": "code",
   "execution_count": 2,
   "id": "4fc6dcee",
   "metadata": {},
   "outputs": [
    {
     "data": {
      "text/html": [
       "<div>\n",
       "<style scoped>\n",
       "    .dataframe tbody tr th:only-of-type {\n",
       "        vertical-align: middle;\n",
       "    }\n",
       "\n",
       "    .dataframe tbody tr th {\n",
       "        vertical-align: top;\n",
       "    }\n",
       "\n",
       "    .dataframe thead th {\n",
       "        text-align: right;\n",
       "    }\n",
       "</style>\n",
       "<table border=\"1\" class=\"dataframe\">\n",
       "  <thead>\n",
       "    <tr style=\"text-align: right;\">\n",
       "      <th></th>\n",
       "      <th>Symbol</th>\n",
       "    </tr>\n",
       "  </thead>\n",
       "  <tbody>\n",
       "    <tr>\n",
       "      <th>0</th>\n",
       "      <td>AAPL</td>\n",
       "    </tr>\n",
       "    <tr>\n",
       "      <th>1</th>\n",
       "      <td>NVDA</td>\n",
       "    </tr>\n",
       "    <tr>\n",
       "      <th>2</th>\n",
       "      <td>MSFT</td>\n",
       "    </tr>\n",
       "    <tr>\n",
       "      <th>3</th>\n",
       "      <td>AMZN</td>\n",
       "    </tr>\n",
       "    <tr>\n",
       "      <th>4</th>\n",
       "      <td>META</td>\n",
       "    </tr>\n",
       "  </tbody>\n",
       "</table>\n",
       "</div>"
      ],
      "text/plain": [
       "  Symbol\n",
       "0   AAPL\n",
       "1   NVDA\n",
       "2   MSFT\n",
       "3   AMZN\n",
       "4   META"
      ]
     },
     "execution_count": 2,
     "metadata": {},
     "output_type": "execute_result"
    }
   ],
   "source": [
    "#tickers = pd.read_csv('./tickers.csv', header = None)\n",
    "tickers_df = pd.read_csv('./tickers.csv', dtype={'Symbol': str})\n",
    "tickers_df['Symbol'] = tickers_df['Symbol'].str.strip()\n",
    "tickers_df.head()"
   ]
  },
  {
   "cell_type": "code",
   "execution_count": 32,
   "id": "b52495c3",
   "metadata": {},
   "outputs": [
    {
     "name": "stdout",
     "output_type": "stream",
     "text": [
      "{'ticker': 'AAPL'}\n",
      "{'currentPrice': 254.49}\n",
      "{'recommendationKey': 'buy'}\n",
      "{'numberOfAnalystOpinions': 42}\n",
      "{'ebitda': 134660997120}\n",
      "{'totalDebt': 119058997248}\n",
      "{'totalRevenue': 391034994688}\n",
      "{'freeCashflow': 110846001152}\n",
      "{'revenueGrowth': 0.061}\n",
      "{'profitMargins': 0.23971}\n"
     ]
    }
   ],
   "source": [
    "import requests\n",
    "import csv\n",
    "\n",
    "url = 'https://yahoo-finance166.p.rapidapi.com/api/stock/get-financial-data'\n",
    "\n",
    "headers = {\n",
    "\t\"x-rapidapi-key\": \"6fe0cabaefmsh7ef3e2799f96313p13bba4jsn8315bbcfaddb\",\n",
    "\t\"x-rapidapi-host\": \"yahoo-finance166.p.rapidapi.com\"\n",
    "}\n",
    "i = 0\n",
    "field_names = ['currentPrice','totalRevenue','ebitda','freeCashflow','profitMargins','revenueGrowth','debtToEquity(%)','totalDebt','numberOfAnalystOpinions','recommendationKey']\n",
    "data_dict = {}\n",
    "\n",
    "for ticker in tickers_df['Symbol']:\n",
    "    querystring = {\"region\":\"US\",\"symbol\":ticker}\n",
    "    response = requests.get(url, headers=headers, params=querystring)\n",
    "    #print(ticker,response.status_code)\n",
    "    if response.status_code == 200:\n",
    "        data = response.json().get('quoteSummary', []).get('result',[])#.get('0',[]).get('financialData',[])\n",
    "        print({'ticker':ticker})\n",
    "        for entry in data[0]['financialData']:\n",
    "            if ((entry in field_names) and entry != 'recommendationKey'):\n",
    "                print({entry: data[0]['financialData'][entry]['raw']})\n",
    "            if ((entry in field_names) and entry == 'recommendationKey'):\n",
    "                print({entry: data[0]['financialData'][entry]})\n",
    "    break"
   ]
  },
  {
   "cell_type": "code",
   "execution_count": 19,
   "id": "3513cdf4",
   "metadata": {},
   "outputs": [
    {
     "data": {
      "text/plain": [
       "{'raw': 254.49, 'fmt': '254.49'}"
      ]
     },
     "execution_count": 19,
     "metadata": {},
     "output_type": "execute_result"
    }
   ],
   "source": [
    "data[0]['financialData']['currentPrice']"
   ]
  },
  {
   "cell_type": "code",
   "execution_count": 4,
   "id": "11084178",
   "metadata": {},
   "outputs": [
    {
     "name": "stdout",
     "output_type": "stream",
     "text": [
      "254.49\n"
     ]
    }
   ],
   "source": [
    "print(data[0]['financialData']['currentPrice']['raw'])"
   ]
  },
  {
   "cell_type": "code",
   "execution_count": 5,
   "id": "67c09982",
   "metadata": {},
   "outputs": [
    {
     "name": "stdout",
     "output_type": "stream",
     "text": [
      "2\n"
     ]
    }
   ],
   "source": [
    "d = (data[0]['financialData'])\n",
    "field_names = ['currentPrice','totalRevenue','ebitda','freeCashflow','profitMargins','revenueGrowth','debtToEquity(%)','totalDebt','numberOfAnalystOpinions','recommendationKey']\n",
    "print(len(list(d['currentPrice'].keys())))"
   ]
  },
  {
   "cell_type": "code",
   "execution_count": 24,
   "id": "6e99e7c4",
   "metadata": {},
   "outputs": [
    {
     "name": "stdout",
     "output_type": "stream",
     "text": [
      "<generator object <genexpr> at 0x000001B728F46350>\n"
     ]
    }
   ],
   "source": [
    "print(str(data[0]['financialData'][field]) for field in field_names)"
   ]
  },
  {
   "cell_type": "code",
   "execution_count": 31,
   "id": "c85a21fa",
   "metadata": {},
   "outputs": [
    {
     "name": "stdout",
     "output_type": "stream",
     "text": [
      "{'currentPrice': 254.49}\n",
      "{'recommendationKey': 'buy'}\n",
      "{'numberOfAnalystOpinions': 42}\n",
      "{'ebitda': 134660997120}\n",
      "{'totalDebt': 119058997248}\n",
      "{'totalRevenue': 391034994688}\n",
      "{'freeCashflow': 110846001152}\n",
      "{'revenueGrowth': 0.061}\n",
      "{'profitMargins': 0.23971}\n"
     ]
    }
   ],
   "source": [
    "for entry in data[0]['financialData']:\n",
    "    #writer.writerow({field: entry.get(field) for field in field_names})\n",
    "    if ((entry in field_names) and entry != 'recommendationKey'):\n",
    "        print({entry: data[0]['financialData'][entry]['raw']})\n",
    "    if ((entry in field_names) and entry == 'recommendationKey'):\n",
    "        print({entry: data[0]['financialData'][entry]})\n",
    "    #print({field: entry[field] for field in field_names})"
   ]
  },
  {
   "cell_type": "code",
   "execution_count": null,
   "id": "fdab2508",
   "metadata": {},
   "outputs": [],
   "source": [
    "if response.status_code == 200:\n",
    "    data = response.json().get('quoteSummary', []).get('result',[])  # Extracting the 'rank' data\n",
    "    csv_filename = 'batsmen_rankings.csv'\n",
    "\n",
    "    if data:\n",
    "        field_names = ['rank', 'name', 'country']  # Specify required field names\n",
    "\n",
    "        # Write data to CSV file with only specified field names\n",
    "        # with open(csv_filename, 'w', newline='', encoding='utf-8') as csvfile:\n",
    "            # writer = csv.DictWriter(csvfile, fieldnames=field_names)\n",
    "            # writer.writeheader()\n",
    "        for entry in data:\n",
    "            #writer.writerow({field: entry.get(field) for field in field_names})\n",
    "            print(entry)\n",
    "\n",
    "        print(f\"Data fetched successfully and written to '{csv_filename}'\")\n",
    "\n",
    "        '''# Upload the CSV file to GCS\n",
    "        bucket_name = 'bkt-ranking-data'\n",
    "        #storage_client = storage.Client()\n",
    "        #bucket = storage_client.bucket(bucket_name)\n",
    "        destination_blob_name = f'{csv_filename}'  # The path to store in GCS\n",
    "\n",
    "        blob = bucket.blob(destination_blob_name)\n",
    "        blob.upload_from_filename(csv_filename)\n",
    "\n",
    "        print(f\"File {csv_filename} uploaded to GCS bucket {bucket_name} as {destination_blob_name}\")'''\n",
    "    else:\n",
    "        print(\"No data available from the API.\")\n",
    "else:\n",
    "    print(\"Failed to fetch data:\", response.status_code)"
   ]
  }
 ],
 "metadata": {
  "kernelspec": {
   "display_name": "Python 3 (ipykernel)",
   "language": "python",
   "name": "python3"
  },
  "language_info": {
   "codemirror_mode": {
    "name": "ipython",
    "version": 3
   },
   "file_extension": ".py",
   "mimetype": "text/x-python",
   "name": "python",
   "nbconvert_exporter": "python",
   "pygments_lexer": "ipython3",
   "version": "3.9.7"
  }
 },
 "nbformat": 4,
 "nbformat_minor": 5
}
